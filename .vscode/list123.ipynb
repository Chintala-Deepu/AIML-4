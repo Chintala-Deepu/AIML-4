{
 "cells": [
  {
   "cell_type": "code",
   "execution_count": 3,
   "metadata": {},
   "outputs": [
    {
     "name": "stdout",
     "output_type": "stream",
     "text": [
      "[1, 2, 13, 3, 4, 5, 6]\n"
     ]
    }
   ],
   "source": [
    "import numpy as list1\n",
    "\n",
    "list1 = [ 1, 2, 3, 4, 5, 6 ] \n",
    "  \n",
    "# Element to be inserted  \n",
    "element = 13 \n",
    "  \n",
    "# Element to be inserted before 3 \n",
    "beforeElement = 3 \n",
    "  \n",
    "# Find index \n",
    "index = list1.index(beforeElement)  \n",
    "  \n",
    "# Insert element at beforeElement  \n",
    "list1.insert(index, element)  \n",
    "print(list1)"
   ]
  },
  {
   "cell_type": "code",
   "execution_count": 4,
   "metadata": {},
   "outputs": [],
   "source": [
    "import numpy as list1\n",
    "\n",
    "list1 = [ 1, 2, 3, 4, 5, 6 ] \n",
    "  \n",
    "# Element to be inserted  \n",
    "element = 13 \n",
    "  \n",
    "# Element to be inserted before 3 \n",
    "beforeElement = 3 "
   ]
  },
  {
   "cell_type": "code",
   "execution_count": 5,
   "metadata": {},
   "outputs": [],
   "source": [
    "import numpy as list1\n",
    "\n",
    "list1 = [ 1, 2, 3, 4, 5, 6 ] \n",
    "  \n",
    "# Element to be inserted  \n",
    "element = 13 \n",
    "  \n",
    "# Element to be inserted before 3 \n",
    "beforeElement = 3 "
   ]
  },
  {
   "cell_type": "code",
   "execution_count": 6,
   "metadata": {},
   "outputs": [
    {
     "name": "stdout",
     "output_type": "stream",
     "text": [
      "[1, 2, 3, 4, 5]\n"
     ]
    }
   ],
   "source": [
    "import numpy as np\n",
    "np=[1,2,3,4,5]\n",
    "print(np)"
   ]
  },
  {
   "cell_type": "code",
   "execution_count": null,
   "metadata": {},
   "outputs": [],
   "source": []
  }
 ],
 "metadata": {
  "kernelspec": {
   "display_name": "Python 3",
   "language": "python",
   "name": "python3"
  },
  "language_info": {
   "codemirror_mode": {
    "name": "ipython",
    "version": 3
   },
   "file_extension": ".py",
   "mimetype": "text/x-python",
   "name": "python",
   "nbconvert_exporter": "python",
   "pygments_lexer": "ipython3",
   "version": "3.10.13"
  }
 },
 "nbformat": 4,
 "nbformat_minor": 2
}
